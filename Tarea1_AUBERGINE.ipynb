{
 "cells": [
  {
   "cell_type": "code",
   "execution_count": null,
   "id": "cc97c192",
   "metadata": {
    "ExecuteTime": {
     "end_time": "2022-03-31T18:11:55.328421Z",
     "start_time": "2022-03-31T18:11:52.279218Z"
    }
   },
   "outputs": [],
   "source": [
    "import sys\n",
    "!{sys.executable} -m pip install -U webdriver-manager"
   ]
  },
  {
   "cell_type": "code",
   "execution_count": 1,
   "id": "d9275bc7",
   "metadata": {
    "ExecuteTime": {
     "end_time": "2022-03-31T18:34:23.025636Z",
     "start_time": "2022-03-31T18:34:20.740125Z"
    }
   },
   "outputs": [
    {
     "name": "stderr",
     "output_type": "stream",
     "text": [
      "\n",
      "\n",
      "====== WebDriver manager ======\n",
      "Current google-chrome version is 99.0.4844\n",
      "Get LATEST chromedriver version for 99.0.4844 google-chrome\n",
      "Driver [C:\\Users\\julia\\.wdm\\drivers\\chromedriver\\win32\\99.0.4844.51\\chromedriver.exe] found in cache\n"
     ]
    }
   ],
   "source": [
    "from selenium import webdriver\n",
    "from selenium.webdriver.chrome.service import Service\n",
    "from webdriver_manager.chrome import ChromeDriverManager\n",
    "from selenium.webdriver.common.keys import Keys\n",
    "from selenium.webdriver.common.by import By\n",
    "\n",
    "driver = webdriver.Chrome(service=Service(ChromeDriverManager().install()))"
   ]
  },
  {
   "cell_type": "code",
   "execution_count": 2,
   "id": "4b500f67",
   "metadata": {
    "ExecuteTime": {
     "end_time": "2022-03-31T18:34:31.096828Z",
     "start_time": "2022-03-31T18:34:30.179720Z"
    }
   },
   "outputs": [],
   "source": [
    "url = 'https://rnm.franceagrimer.fr/prix?AUBERGINE#'\n",
    "driver.get(url)\n",
    "driver.maximize_window()"
   ]
  },
  {
   "cell_type": "code",
   "execution_count": 3,
   "id": "67affba1",
   "metadata": {
    "ExecuteTime": {
     "end_time": "2022-03-31T18:34:39.193246Z",
     "start_time": "2022-03-31T18:34:39.172218Z"
    }
   },
   "outputs": [],
   "source": [
    "links = driver.find_elements(By.XPATH, \"//table/descendant::a[@href='#'][contains(text(),'AUBERGINE')]\")\n"
   ]
  },
  {
   "cell_type": "code",
   "execution_count": 4,
   "id": "89e8ce4b",
   "metadata": {
    "ExecuteTime": {
     "end_time": "2022-03-31T18:34:43.336130Z",
     "start_time": "2022-03-31T18:34:42.914328Z"
    }
   },
   "outputs": [],
   "source": [
    "links[0].click()"
   ]
  },
  {
   "cell_type": "code",
   "execution_count": 5,
   "id": "ca8ca4ba",
   "metadata": {
    "ExecuteTime": {
     "end_time": "2022-03-31T18:34:49.752329Z",
     "start_time": "2022-03-31T18:34:49.682368Z"
    }
   },
   "outputs": [],
   "source": [
    "fecha_inicio = driver.find_element(By.XPATH, \"//input[@id='val1']\")\n",
    "fecha_inicio.send_keys('01-01-2017')"
   ]
  },
  {
   "cell_type": "code",
   "execution_count": 6,
   "id": "3c0d371a",
   "metadata": {
    "ExecuteTime": {
     "end_time": "2022-03-31T18:34:52.553856Z",
     "start_time": "2022-03-31T18:34:52.484460Z"
    }
   },
   "outputs": [],
   "source": [
    "fecha_fin = driver.find_element(By.XPATH, \"//input[@id='val2']\")\n",
    "fecha_fin.send_keys('31-03-2022')"
   ]
  },
  {
   "cell_type": "code",
   "execution_count": 7,
   "id": "2f932217",
   "metadata": {
    "ExecuteTime": {
     "end_time": "2022-03-31T18:34:58.633285Z",
     "start_time": "2022-03-31T18:34:58.608490Z"
    }
   },
   "outputs": [],
   "source": [
    "btn_ok = driver.find_element(By.XPATH, \"//input[@value='OK']\")\n"
   ]
  },
  {
   "cell_type": "code",
   "execution_count": 8,
   "id": "a2a6db01",
   "metadata": {
    "ExecuteTime": {
     "end_time": "2022-03-31T18:35:01.418195Z",
     "start_time": "2022-03-31T18:35:00.979144Z"
    }
   },
   "outputs": [],
   "source": [
    "btn_ok.click()"
   ]
  },
  {
   "cell_type": "code",
   "execution_count": 17,
   "id": "bc0dfbaa",
   "metadata": {
    "ExecuteTime": {
     "end_time": "2022-03-31T19:10:50.670698Z",
     "start_time": "2022-03-31T19:10:50.445617Z"
    }
   },
   "outputs": [],
   "source": [
    "fechas = driver.find_elements(By.XPATH, \"//table[@class='tabcot']/descendant::tr/td[1]\")\n",
    "prix_moyen = driver.find_elements(By.XPATH, \"//table[@class='tabcot']/descendant::tr/td[2]\")\n",
    "mini = driver.find_elements(By.XPATH, \"//table[@class='tabcot']/descendant::tr/td[3]\")\n",
    "maxi = driver.find_elements(By.XPATH, \"//table[@class='tabcot']/descendant::tr/td[4]\")"
   ]
  },
  {
   "cell_type": "code",
   "execution_count": 21,
   "id": "c728ae5f",
   "metadata": {
    "ExecuteTime": {
     "end_time": "2022-03-31T19:19:03.805181Z",
     "start_time": "2022-03-31T19:18:50.908558Z"
    }
   },
   "outputs": [],
   "source": [
    "import pandas as pd\n",
    "resultados = []\n",
    "for i in range(len(fechas)):\n",
    "    data_temporal = {'Fecha': fechas[i].text,\n",
    "            'PrixMoyen': prix_moyen[i].text,\n",
    "            'Mini': mini[i].text,\n",
    "            'maxi':maxi[i].text}\n",
    "    resultados.append(data_temporal)"
   ]
  },
  {
   "cell_type": "code",
   "execution_count": 22,
   "id": "d38e93ae",
   "metadata": {
    "ExecuteTime": {
     "end_time": "2022-03-31T19:20:05.566971Z",
     "start_time": "2022-03-31T19:20:05.548553Z"
    }
   },
   "outputs": [],
   "source": [
    "df_data = pd.DataFrame(resultados)"
   ]
  },
  {
   "cell_type": "code",
   "execution_count": 23,
   "id": "69242bbb",
   "metadata": {
    "ExecuteTime": {
     "end_time": "2022-03-31T19:20:11.968853Z",
     "start_time": "2022-03-31T19:20:11.931997Z"
    }
   },
   "outputs": [
    {
     "data": {
      "text/html": [
       "<div>\n",
       "<style scoped>\n",
       "    .dataframe tbody tr th:only-of-type {\n",
       "        vertical-align: middle;\n",
       "    }\n",
       "\n",
       "    .dataframe tbody tr th {\n",
       "        vertical-align: top;\n",
       "    }\n",
       "\n",
       "    .dataframe thead th {\n",
       "        text-align: right;\n",
       "    }\n",
       "</style>\n",
       "<table border=\"1\" class=\"dataframe\">\n",
       "  <thead>\n",
       "    <tr style=\"text-align: right;\">\n",
       "      <th></th>\n",
       "      <th>Fecha</th>\n",
       "      <th>PrixMoyen</th>\n",
       "      <th>Mini</th>\n",
       "      <th>maxi</th>\n",
       "    </tr>\n",
       "  </thead>\n",
       "  <tbody>\n",
       "    <tr>\n",
       "      <th>0</th>\n",
       "      <td>30/03/22</td>\n",
       "      <td>1.75</td>\n",
       "      <td>1.50</td>\n",
       "      <td>1.95</td>\n",
       "    </tr>\n",
       "    <tr>\n",
       "      <th>1</th>\n",
       "      <td>23/03/22</td>\n",
       "      <td>2.10</td>\n",
       "      <td>1.85</td>\n",
       "      <td>2.55</td>\n",
       "    </tr>\n",
       "    <tr>\n",
       "      <th>2</th>\n",
       "      <td>16/03/22</td>\n",
       "      <td>1.70</td>\n",
       "      <td>1.60</td>\n",
       "      <td>1.90</td>\n",
       "    </tr>\n",
       "    <tr>\n",
       "      <th>3</th>\n",
       "      <td>09/03/22</td>\n",
       "      <td>1.80</td>\n",
       "      <td>1.60</td>\n",
       "      <td>2.15</td>\n",
       "    </tr>\n",
       "    <tr>\n",
       "      <th>4</th>\n",
       "      <td>02/03/22</td>\n",
       "      <td>1.90</td>\n",
       "      <td>1.60</td>\n",
       "      <td>2.50</td>\n",
       "    </tr>\n",
       "    <tr>\n",
       "      <th>...</th>\n",
       "      <td>...</td>\n",
       "      <td>...</td>\n",
       "      <td>...</td>\n",
       "      <td>...</td>\n",
       "    </tr>\n",
       "    <tr>\n",
       "      <th>259</th>\n",
       "      <td>31/01/17</td>\n",
       "      <td>5.35</td>\n",
       "      <td>4.50</td>\n",
       "      <td>5.90</td>\n",
       "    </tr>\n",
       "    <tr>\n",
       "      <th>260</th>\n",
       "      <td>24/01/17</td>\n",
       "      <td>4.95</td>\n",
       "      <td>4.00</td>\n",
       "      <td>5.75</td>\n",
       "    </tr>\n",
       "    <tr>\n",
       "      <th>261</th>\n",
       "      <td>17/01/17</td>\n",
       "      <td>3.63</td>\n",
       "      <td>3.45</td>\n",
       "      <td>3.75</td>\n",
       "    </tr>\n",
       "    <tr>\n",
       "      <th>262</th>\n",
       "      <td>10/01/17</td>\n",
       "      <td>2.40</td>\n",
       "      <td>2.00</td>\n",
       "      <td>2.80</td>\n",
       "    </tr>\n",
       "    <tr>\n",
       "      <th>263</th>\n",
       "      <td>03/01/17</td>\n",
       "      <td>2.70</td>\n",
       "      <td>2.20</td>\n",
       "      <td>3.10</td>\n",
       "    </tr>\n",
       "  </tbody>\n",
       "</table>\n",
       "<p>264 rows × 4 columns</p>\n",
       "</div>"
      ],
      "text/plain": [
       "        Fecha PrixMoyen  Mini  maxi\n",
       "0    30/03/22      1.75  1.50  1.95\n",
       "1    23/03/22      2.10  1.85  2.55\n",
       "2    16/03/22      1.70  1.60  1.90\n",
       "3    09/03/22      1.80  1.60  2.15\n",
       "4    02/03/22      1.90  1.60  2.50\n",
       "..        ...       ...   ...   ...\n",
       "259  31/01/17      5.35  4.50  5.90\n",
       "260  24/01/17      4.95  4.00  5.75\n",
       "261  17/01/17      3.63  3.45  3.75\n",
       "262  10/01/17      2.40  2.00  2.80\n",
       "263  03/01/17      2.70  2.20  3.10\n",
       "\n",
       "[264 rows x 4 columns]"
      ]
     },
     "execution_count": 23,
     "metadata": {},
     "output_type": "execute_result"
    }
   ],
   "source": [
    "df_data"
   ]
  },
  {
   "cell_type": "code",
   "execution_count": 25,
   "id": "dcd93370",
   "metadata": {
    "ExecuteTime": {
     "end_time": "2022-03-31T19:23:13.284368Z",
     "start_time": "2022-03-31T19:23:13.116134Z"
    }
   },
   "outputs": [],
   "source": [
    "df_data.to_excel('EspagneBiologique.xlsx',index=False)"
   ]
  },
  {
   "cell_type": "code",
   "execution_count": null,
   "id": "bb20626c",
   "metadata": {},
   "outputs": [],
   "source": []
  }
 ],
 "metadata": {
  "kernelspec": {
   "display_name": "Python 3 (ipykernel)",
   "language": "python",
   "name": "python3"
  },
  "language_info": {
   "codemirror_mode": {
    "name": "ipython",
    "version": 3
   },
   "file_extension": ".py",
   "mimetype": "text/x-python",
   "name": "python",
   "nbconvert_exporter": "python",
   "pygments_lexer": "ipython3",
   "version": "3.9.7"
  },
  "toc": {
   "base_numbering": 1,
   "nav_menu": {},
   "number_sections": true,
   "sideBar": true,
   "skip_h1_title": false,
   "title_cell": "Table of Contents",
   "title_sidebar": "Contents",
   "toc_cell": false,
   "toc_position": {},
   "toc_section_display": true,
   "toc_window_display": false
  }
 },
 "nbformat": 4,
 "nbformat_minor": 5
}
